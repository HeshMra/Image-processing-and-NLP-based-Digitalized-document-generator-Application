{
 "cells": [
  {
   "cell_type": "code",
   "execution_count": 1,
   "metadata": {},
   "outputs": [],
   "source": [
    "import os\n",
    "import spacy\n",
    "import pprint\n",
    "import pandas as pd\n",
    "import speech_recognition as sr\n",
    "from scrape import get_entire_web_google_results"
   ]
  },
  {
   "cell_type": "markdown",
   "metadata": {},
   "source": [
    "# PART 01"
   ]
  },
  {
   "cell_type": "markdown",
   "metadata": {},
   "source": [
    "## SPEECH 2 TEXT"
   ]
  },
  {
   "cell_type": "code",
   "execution_count": 2,
   "metadata": {},
   "outputs": [],
   "source": [
    "def Speech2text(audio_file):\n",
    "    r = sr.Recognizer()\n",
    "    with sr.AudioFile(audio_file) as source:\n",
    "        audio = r.record(source)\n",
    "    try:\n",
    "        text = r.recognize_google(audio)\n",
    "        return text\n",
    "    except:\n",
    "        return \"Error\""
   ]
  },
  {
   "cell_type": "markdown",
   "metadata": {},
   "source": [
    "#### test samples"
   ]
  },
  {
   "cell_type": "markdown",
   "metadata": {},
   "source": [
    "# PART 02"
   ]
  },
  {
   "cell_type": "code",
   "execution_count": 3,
   "metadata": {},
   "outputs": [
    {
     "data": {
      "text/plain": [
       "\"good morning everyone respected teachers and parents and students a special thanks to the chief guest of the day mention his flash surname it's an honour to be traced by the presence of such an accomplice after an entrepreneur\""
      ]
     },
     "execution_count": 3,
     "metadata": {},
     "output_type": "execute_result"
    }
   ],
   "source": [
    "audio_file = 'data/reference/speech2text/welcome.wav'\n",
    "Speech2text(audio_file)"
   ]
  },
  {
   "cell_type": "markdown",
   "metadata": {},
   "source": [
    "## ABBREVIATION EXTRACTION"
   ]
  },
  {
   "cell_type": "code",
   "execution_count": 4,
   "metadata": {},
   "outputs": [],
   "source": [
    "def spacy_ner_ruler(path = 'data/reference/Abbreviations.xlsx'):\n",
    "    df = pd.read_excel(path)\n",
    "    nlp = spacy.load('en_core_web_sm')\n",
    "    ruler = nlp.add_pipe('entity_ruler')\n",
    "\n",
    "    Abbreviation = df['Abbreviation'].tolist()\n",
    "    Description = df['Description'].tolist()\n",
    "    Category = df['Category'].tolist()\n",
    "\n",
    "    patterns = []\n",
    "    for i in range(len(Abbreviation)):\n",
    "        patterns.append({\n",
    "                        'label': Category[i], \n",
    "                        'pattern': Abbreviation[i],\n",
    "                        'description': Description[i]\n",
    "                        })\n",
    "        \n",
    "    ruler.add_patterns(patterns)\n",
    "    Abb2Desc = dict(zip(Abbreviation, Description))\n",
    "    return nlp, Abb2Desc\n",
    "\n",
    "nlp_ruler, Abb2Desc = spacy_ner_ruler()"
   ]
  },
  {
   "cell_type": "code",
   "execution_count": 5,
   "metadata": {},
   "outputs": [],
   "source": [
    "def inference_abb(text):\n",
    "    abbr_dict = {}\n",
    "    abbr_dict['Abbreviation'] = []\n",
    "    abbr_dict['Description'] = []\n",
    "\n",
    "    doc = nlp_ruler(text)\n",
    "    for ent in doc.ents:\n",
    "        ent_text = ent.text\n",
    "        if ent_text in Abb2Desc:\n",
    "            abbr_dict['Abbreviation'].append(ent_text)\n",
    "            abbr_dict['Description'].append(Abb2Desc[ent_text])\n",
    "\n",
    "    df_abbr = pd.DataFrame(abbr_dict)\n",
    "    return df_abbr"
   ]
  },
  {
   "cell_type": "code",
   "execution_count": 6,
   "metadata": {},
   "outputs": [
    {
     "data": {
      "text/html": [
       "<div>\n",
       "<style scoped>\n",
       "    .dataframe tbody tr th:only-of-type {\n",
       "        vertical-align: middle;\n",
       "    }\n",
       "\n",
       "    .dataframe tbody tr th {\n",
       "        vertical-align: top;\n",
       "    }\n",
       "\n",
       "    .dataframe thead th {\n",
       "        text-align: right;\n",
       "    }\n",
       "</style>\n",
       "<table border=\"1\" class=\"dataframe\">\n",
       "  <thead>\n",
       "    <tr style=\"text-align: right;\">\n",
       "      <th></th>\n",
       "      <th>Abbreviation</th>\n",
       "      <th>Description</th>\n",
       "    </tr>\n",
       "  </thead>\n",
       "  <tbody>\n",
       "    <tr>\n",
       "      <th>0</th>\n",
       "      <td>A/D</td>\n",
       "      <td>Analog-to-Digital</td>\n",
       "    </tr>\n",
       "  </tbody>\n",
       "</table>\n",
       "</div>"
      ],
      "text/plain": [
       "  Abbreviation        Description\n",
       "0          A/D  Analog-to-Digital"
      ]
     },
     "execution_count": 6,
     "metadata": {},
     "output_type": "execute_result"
    }
   ],
   "source": [
    "text = 'dnindis ALU ratio is 1.5'\n",
    "inference_abb(text)"
   ]
  },
  {
   "cell_type": "markdown",
   "metadata": {},
   "source": [
    "# PART 03"
   ]
  },
  {
   "cell_type": "markdown",
   "metadata": {},
   "source": [
    "## Scraping"
   ]
  },
  {
   "cell_type": "code",
   "execution_count": null,
   "metadata": {},
   "outputs": [],
   "source": [
    "def scraping_references(search_item):\n",
    "    df = get_entire_web_google_results(search_item)\n",
    "    df = df[['title', 'description', 'DOI']]\n",
    "    return df.to_dict('records')"
   ]
  },
  {
   "cell_type": "code",
   "execution_count": null,
   "metadata": {},
   "outputs": [],
   "source": [
    "text = '''A computer network is a collection of interconnected devices that can communicate and exchange data with each other. The main purpose of a computer network is to facilitate communication and resource sharing between different devices, such as computers, servers, printers, and storage devices. Computer networks can be classified into different types based on their size and geographical coverage, such as local area networks (LANs), wide area networks (WANs), metropolitan area networks (MANs), and personal area networks (PANs). Computer networks have revolutionized the way we communicate and share information, enabling faster and more efficient collaboration between individuals and organizations. They are also essential for the functioning of the Internet, which is the largest and most widely used computer network in the world. References:“Tanenbaum, A. S., Wetherall, D. (2011). Computer Networks (5th ed.). Prentice Hall.”'''\n",
    "response = scraping_references(text)\n",
    "pprint.pprint(response)"
   ]
  },
  {
   "cell_type": "code",
   "execution_count": null,
   "metadata": {},
   "outputs": [],
   "source": []
  },
  {
   "cell_type": "code",
   "execution_count": null,
   "metadata": {},
   "outputs": [],
   "source": []
  },
  {
   "cell_type": "code",
   "execution_count": null,
   "metadata": {},
   "outputs": [],
   "source": []
  }
 ],
 "metadata": {
  "kernelspec": {
   "display_name": "Python 3 (ipykernel)",
   "language": "python",
   "name": "python3"
  },
  "language_info": {
   "codemirror_mode": {
    "name": "ipython",
    "version": 3
   },
   "file_extension": ".py",
   "mimetype": "text/x-python",
   "name": "python",
   "nbconvert_exporter": "python",
   "pygments_lexer": "ipython3",
   "version": "3.9.13"
  }
 },
 "nbformat": 4,
 "nbformat_minor": 2
}

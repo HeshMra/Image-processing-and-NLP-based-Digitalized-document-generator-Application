{
 "cells": [
  {
   "cell_type": "code",
   "execution_count": 1,
   "metadata": {},
   "outputs": [],
   "source": [
    "import easyocr"
   ]
  },
  {
   "cell_type": "code",
   "execution_count": 9,
   "metadata": {},
   "outputs": [],
   "source": [
    "reader = easyocr.Reader(['en'])\n",
    "result = reader.readtext('data/ocr/HandWrittenData/1.jpg', detail = 0)\n",
    "result = ' '.join(result)"
   ]
  },
  {
   "cell_type": "code",
   "execution_count": 10,
   "metadata": {},
   "outputs": [],
   "source": [
    "import language_tool_python\n",
    "tool = language_tool_python.LanguageTool('en-US')"
   ]
  },
  {
   "cell_type": "code",
   "execution_count": 11,
   "metadata": {},
   "outputs": [
    {
     "data": {
      "text/plain": [
       "'Topic Selection d Registration Metro duc tion Now most People Struggle @ith their ~ (;Fe be € a use Of their Life fore Stu debts 2 and OTB r cooker $ do not have much time do cameo base activities image Sc Software 70 Especially, Ben ca e mo v @ to EBE student 5ide 5 do no € Eve much him e to t9 PE, detect Place AR; Sr 5 draw diagrams 5 check gram mar ISS UE $ and Pre reports Not TH &+ i f Some one 0 EE DS t0 convert bis Or be r bard copy to a digit+a/ document Or be part type AO d Prepare those Content manually: Hence Spend 5 more time dodo 9 to see do cameo L based act Vito BS aday5 day to day The re busy to 45io9 using price 4be y 0oly pa re be be y must'"
      ]
     },
     "execution_count": 11,
     "metadata": {},
     "output_type": "execute_result"
    }
   ],
   "source": [
    "matches = tool.check(result)\n",
    "language_tool_python.utils.correct(result, matches)"
   ]
  },
  {
   "cell_type": "code",
   "execution_count": null,
   "metadata": {},
   "outputs": [],
   "source": []
  }
 ],
 "metadata": {
  "kernelspec": {
   "display_name": "Python 3 (ipykernel)",
   "language": "python",
   "name": "python3"
  },
  "language_info": {
   "codemirror_mode": {
    "name": "ipython",
    "version": 3
   },
   "file_extension": ".py",
   "mimetype": "text/x-python",
   "name": "python",
   "nbconvert_exporter": "python",
   "pygments_lexer": "ipython3",
   "version": "3.9.13"
  }
 },
 "nbformat": 4,
 "nbformat_minor": 2
}
